{
 "cells": [
  {
   "cell_type": "markdown",
   "metadata": {},
   "source": [
    "Import neccessary libraries"
   ]
  },
  {
   "cell_type": "code",
   "execution_count": 28,
   "metadata": {
    "collapsed": true
   },
   "outputs": [],
   "source": [
    "# -*- coding: utf-8 -*-\n",
    "\n",
    "\n",
    "import numpy as np \n",
    "import pandas as pd\n",
    "from pandas_datareader import data, wb\n",
    "import matplotlib.pyplot as plt \n",
    "import math\n",
    "from datetime import datetime\n",
    "%matplotlib inline\n",
    "\n",
    "\n",
    "\n",
    "\n",
    "\n",
    "\n"
   ]
  },
  {
   "cell_type": "markdown",
   "metadata": {},
   "source": [
    "Data preparation"
   ]
  },
  {
   "cell_type": "code",
   "execution_count": 29,
   "metadata": {
    "collapsed": true
   },
   "outputs": [],
   "source": [
    "csv_f = pd.read_csv('L_T_data.csv')\n",
    "data = pd.DataFrame(csv_f)\n",
    "data['date'] = pd.to_datetime(data['date'])\n",
    "data.set_index('date', inplace = True)\n",
    "df = data[~data.index.duplicated(keep = 'first')]\n",
    "df1 = df[:-1]\n",
    "dfMajor = df1.loc[:,'BTC': 'LTC']\n",
    "dfMinor = df1.loc[:,'ETC':]"
   ]
  },
  {
   "cell_type": "markdown",
   "metadata": {},
   "source": [
    "Technical Analysis prep, calc and weights"
   ]
  },
  {
   "cell_type": "code",
   "execution_count": 30,
   "metadata": {
    "collapsed": true
   },
   "outputs": [],
   "source": [
    "\n",
    "#Momentum prep and calc \n",
    "mom_1_var = 15\n",
    "mom_1 = df1.pct_change(mom_1_var)\n",
    "mom_2_var = 30\n",
    "mom_2 = df1.pct_change(mom_2_var)\n",
    "    \n",
    "#Sortino prep and calc\n",
    "period = 30\n",
    "Rtn = df1.pct_change(period)\n",
    "dailyRtn = df1.pct_change(1)\n",
    "averageofP = dailyRtn.rolling(window=period).mean()\n",
    "downsideDev = np.where(dailyRtn < averageofP, dailyRtn, np.NaN)\n",
    "downsideDev_df = pd.DataFrame(downsideDev, index=df1.index, columns=df1.columns).reset_index()\n",
    "downsideDev_df = downsideDev_df.set_index(\"date\")\n",
    "std_dd_df = downsideDev_df.rolling(window=period, min_periods = 1).std()\n",
    "sortino_R = Rtn / std_dd_df\n",
    "period_Sort = 15\n",
    "sortino_Avg = sortino_R.rolling(window=period_Sort).mean()\n",
    "sortino_mom_var = 20\n",
    "sortino_mom = sortino_Avg.pct_change(period_Sort)\n",
    "    \n",
    "#Technical weights\n",
    "m_weight_1 = 0.5\n",
    "m_weight_2 = 0.5\n",
    "r_Weight_1 = 0.5\n",
    "r_Weight_2 = 0.5\n",
    "mom_1_R = mom_1.rank(1, ascending = False)\n",
    "mom_2_R = mom_2.rank(1, ascending = False )\n",
    "mom_R = (mom_1_R * m_weight_1) + (mom_2_R * m_weight_2)\n",
    "sortino_R = sortino_mom.rank(1, ascending = False)\n",
    "total_Rank = (sortino_R *r_Weight_1) + (mom_R* r_Weight_2)\n",
    "total_Rank = total_Rank.fillna(1000)\n"
   ]
  },
  {
   "cell_type": "markdown",
   "metadata": {},
   "source": [
    "Fundamental analysis"
   ]
  },
  {
   "cell_type": "code",
   "execution_count": 31,
   "metadata": {
    "collapsed": true
   },
   "outputs": [],
   "source": [
    "fundamental_data = pd.read_csv('Fundamentals.csv')\n",
    "df_f = pd.DataFrame(fundamental_data)\n",
    "df_f['date'] = pd.to_datetime(df_f['date'])\n",
    "df_f.set_index('date', inplace = True)\n"
   ]
  },
  {
   "cell_type": "markdown",
   "metadata": {},
   "source": [
    "Create groups (Major/Minor)"
   ]
  },
  {
   "cell_type": "code",
   "execution_count": 32,
   "metadata": {
    "collapsed": true
   },
   "outputs": [],
   "source": [
    "TRmajor = total_Rank.loc[:,'BTC':'LTC']\n",
    "TRminor = total_Rank.loc[:,'ETC':]\n",
    "TRmajor = TRmajor.rank(1, ascending = True)\n",
    "TRminor = TRminor.rank(1, ascending = True)\n"
   ]
  },
  {
   "cell_type": "markdown",
   "metadata": {},
   "source": [
    "Major Prep + weights"
   ]
  },
  {
   "cell_type": "code",
   "execution_count": 33,
   "metadata": {
    "collapsed": true
   },
   "outputs": [],
   "source": [
    "df_f_Mj = df_f.loc[:,'BTC':'LTC']\n",
    "df_f_Mj.tail()\n",
    "df_t_Mj = TRmajor[-1:]\n",
    "df_ft_Mj = (df_f_Mj*0.6) + (df_t_Mj*0.4)\n",
    "df_ft_Mj = df_ft_Mj.rank(1, ascending = True)"
   ]
  },
  {
   "cell_type": "markdown",
   "metadata": {},
   "source": [
    "Minor Prep + weights"
   ]
  },
  {
   "cell_type": "code",
   "execution_count": 34,
   "metadata": {
    "collapsed": true
   },
   "outputs": [],
   "source": [
    "df_f_Mn = df_f.loc[:,'ETC':'ADA']\n",
    "df_f_Mn = df_f_Mn.rank(1, ascending = True)\n",
    "df_t_Mn = TRminor[-1:]\n",
    "df_ft_Mn = (df_f_Mn*0.6) + (df_t_Mn*0.4)\n",
    "df_ft_Mn = df_ft_Mn.rank(1, ascending = True)"
   ]
  },
  {
   "cell_type": "markdown",
   "metadata": {},
   "source": [
    "Major ranking "
   ]
  },
  {
   "cell_type": "code",
   "execution_count": 35,
   "metadata": {
    "collapsed": true
   },
   "outputs": [],
   "source": [
    "Mj_rank_input = 4\n",
    "Mj_rank = np.where(df_ft_Mj < Mj_rank_input, 1, 0)\n",
    "Mj_rank = pd.DataFrame(Mj_rank, index = df_ft_Mn.index, columns = df_ft_Mj.columns).reset_index()\n",
    "Mj_rank = Mj_rank.set_index(\"date\")\n",
    "mask = Mj_rank.ne(0)\n",
    "Mj_rank = Mj_rank.loc[mask.any(1), mask.any()]"
   ]
  },
  {
   "cell_type": "markdown",
   "metadata": {},
   "source": [
    "Minor ranking"
   ]
  },
  {
   "cell_type": "code",
   "execution_count": 36,
   "metadata": {
    "collapsed": true
   },
   "outputs": [],
   "source": [
    "Mn_rank_input = 5\n",
    "Mn_rank = np.where(df_ft_Mn < Mn_rank_input, 1, 0)\n",
    "Mn_rank = pd.DataFrame(Mn_rank, index = df_ft_Mn.index, columns = df_ft_Mn.columns).reset_index()\n",
    "Mn_rank = Mn_rank.set_index(\"date\")\n",
    "mask = Mn_rank.ne(0)\n",
    "Mn_rank = Mn_rank.loc[mask.any(1), mask.any()]\n",
    "\n"
   ]
  },
  {
   "cell_type": "markdown",
   "metadata": {},
   "source": [
    "Weights Major and Minor"
   ]
  },
  {
   "cell_type": "code",
   "execution_count": 37,
   "metadata": {
    "collapsed": true
   },
   "outputs": [],
   "source": [
    "Mj_weights = Mj_rank / (Mj_rank_input -1)\n",
    "Mn_weights = Mn_rank/ (Mn_rank_input -1)\n",
    "\n",
    "Major_W = 0.5\n",
    "Minor_W = 1 - Major_W\n",
    "\n",
    "Mj_weights = Mj_weights * Major_W\n",
    "Mn_weights = Mn_weights * Minor_W\n"
   ]
  },
  {
   "cell_type": "markdown",
   "metadata": {},
   "source": [
    "Portfolio "
   ]
  },
  {
   "cell_type": "code",
   "execution_count": 38,
   "metadata": {},
   "outputs": [
    {
     "data": {
      "text/html": [
       "<div>\n",
       "<style>\n",
       "    .dataframe thead tr:only-child th {\n",
       "        text-align: right;\n",
       "    }\n",
       "\n",
       "    .dataframe thead th {\n",
       "        text-align: left;\n",
       "    }\n",
       "\n",
       "    .dataframe tbody tr th {\n",
       "        vertical-align: top;\n",
       "    }\n",
       "</style>\n",
       "<table border=\"1\" class=\"dataframe\">\n",
       "  <thead>\n",
       "    <tr style=\"text-align: right;\">\n",
       "      <th></th>\n",
       "      <th>BTC</th>\n",
       "      <th>ETH</th>\n",
       "      <th>XRP</th>\n",
       "      <th>SC</th>\n",
       "      <th>XLM</th>\n",
       "      <th>NEO</th>\n",
       "      <th>EOS</th>\n",
       "    </tr>\n",
       "    <tr>\n",
       "      <th>date</th>\n",
       "      <th></th>\n",
       "      <th></th>\n",
       "      <th></th>\n",
       "      <th></th>\n",
       "      <th></th>\n",
       "      <th></th>\n",
       "      <th></th>\n",
       "    </tr>\n",
       "  </thead>\n",
       "  <tbody>\n",
       "    <tr>\n",
       "      <th>2017-12-29</th>\n",
       "      <td>0.166667</td>\n",
       "      <td>0.166667</td>\n",
       "      <td>0.166667</td>\n",
       "      <td>0.125</td>\n",
       "      <td>0.125</td>\n",
       "      <td>0.125</td>\n",
       "      <td>0.125</td>\n",
       "    </tr>\n",
       "  </tbody>\n",
       "</table>\n",
       "</div>"
      ],
      "text/plain": [
       "                 BTC       ETH       XRP     SC    XLM    NEO    EOS\n",
       "date                                                                \n",
       "2017-12-29  0.166667  0.166667  0.166667  0.125  0.125  0.125  0.125"
      ]
     },
     "execution_count": 38,
     "metadata": {},
     "output_type": "execute_result"
    }
   ],
   "source": [
    "portfolio = pd.concat([Mj_weights, Mn_weights], axis = 1)\n",
    "#append(Mn_weights, ignore_index = True)- this method put them on seperate rows, but concat worked\n",
    "portfolio"
   ]
  }
 ],
 "metadata": {
  "kernelspec": {
   "display_name": "Python 3",
   "language": "python",
   "name": "python3"
  },
  "language_info": {
   "codemirror_mode": {
    "name": "ipython",
    "version": 3
   },
   "file_extension": ".py",
   "mimetype": "text/x-python",
   "name": "python",
   "nbconvert_exporter": "python",
   "pygments_lexer": "ipython3",
   "version": "3.6.3"
  }
 },
 "nbformat": 4,
 "nbformat_minor": 2
}
